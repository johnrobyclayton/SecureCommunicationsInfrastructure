{
 "cells": [
  {
   "cell_type": "code",
   "execution_count": 3,
   "metadata": {},
   "outputs": [],
   "source": [
    "import re\n",
    "re_test = 'This is a made up string to test 2 different regex methods'\n",
    "re_test_messy1 = 'This is     a made up     string to test     2 different regex methods'\n",
    "re_test_messy2 = 'This-is-a-made/up.string*to>>>>test----2\"\"\"\"different-regex-methods'\n"
   ]
  },
  {
   "cell_type": "code",
   "execution_count": 4,
   "metadata": {},
   "outputs": [
    {
     "data": {
      "text/plain": [
       "['This',\n",
       " 'is',\n",
       " 'a',\n",
       " 'made',\n",
       " 'up',\n",
       " 'string',\n",
       " 'to',\n",
       " 'test',\n",
       " '2',\n",
       " 'different',\n",
       " 'regex',\n",
       " 'methods']"
      ]
     },
     "execution_count": 4,
     "metadata": {},
     "output_type": "execute_result"
    }
   ],
   "source": [
    "#re.split('\\s',re_test)\n",
    "#re.split('\\s+',re_test_messy1)\n",
    "re.split('\\W+',re_test_messy2)"
   ]
  },
  {
   "cell_type": "code",
   "execution_count": 5,
   "metadata": {},
   "outputs": [],
   "source": [
    "pep8_test='I try to follow PEP8 guidelines'\n",
    "pep7_test='I try to follow PEP7 guidelines'\n",
    "peep8_test='I try to follow PEEP8 guidelines'"
   ]
  },
  {
   "cell_type": "code",
   "execution_count": 9,
   "metadata": {},
   "outputs": [
    {
     "data": {
      "text/plain": [
       "['PEEP8']"
      ]
     },
     "execution_count": 9,
     "metadata": {},
     "output_type": "execute_result"
    }
   ],
   "source": [
    "re.findall('P[A-Z]*E[A-Z]*P[0-9]',peep8_test)"
   ]
  }
 ],
 "metadata": {
  "kernelspec": {
   "display_name": "Python 3.10.2 64-bit",
   "language": "python",
   "name": "python3"
  },
  "language_info": {
   "codemirror_mode": {
    "name": "ipython",
    "version": 3
   },
   "file_extension": ".py",
   "mimetype": "text/x-python",
   "name": "python",
   "nbconvert_exporter": "python",
   "pygments_lexer": "ipython3",
   "version": "3.10.2"
  },
  "orig_nbformat": 4,
  "vscode": {
   "interpreter": {
    "hash": "1724f0bb1285563070fc59652a8a95dfd7fa1422f30e9431da38c2eba7eb34bd"
   }
  }
 },
 "nbformat": 4,
 "nbformat_minor": 2
}
